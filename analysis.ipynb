{
  "nbformat": 4,
  "nbformat_minor": 0,
  "metadata": {
    "colab": {
      "name": "statistic_data_analysis.ipynb",
      "provenance": []
    },
    "kernelspec": {
      "name": "python3",
      "display_name": "Python 3"
    },
    "language_info": {
      "name": "python"
    }
  },
  "cells": [
    {
      "cell_type": "markdown",
      "metadata": {
        "id": "CM5B3PW8siJT"
      },
      "source": [
        "### Required Libraries"
      ]
    },
    {
      "cell_type": "code",
      "metadata": {
        "id": "eHV8NHSbsS2R"
      },
      "source": [
        "import pandas as pd\n",
        "from sklearn.linear_model import LogisticRegression\n",
        "from sklearn.model_selection import train_test_split\n",
        "from sklearn.preprocessing import LabelEncoder\n",
        "from sklearn.metrics import accuracy_score"
      ],
      "execution_count": 38,
      "outputs": []
    },
    {
      "cell_type": "markdown",
      "metadata": {
        "id": "zBZR4DnpuYA4"
      },
      "source": [
        "### Importing Dataset"
      ]
    },
    {
      "cell_type": "code",
      "metadata": {
        "colab": {
          "base_uri": "https://localhost:8080/"
        },
        "id": "RsvG1dDFswFD",
        "outputId": "fe28ee0e-7632-41b5-e4a3-dc5a37a24377"
      },
      "source": [
        "# read the dataset\n",
        "data = pd.read_csv('/content/iris.data')\n",
        "print(data.head())"
      ],
      "execution_count": 39,
      "outputs": [
        {
          "output_type": "stream",
          "name": "stdout",
          "text": [
            "   SepalLengthCm  SepalWidthCm  PetalLengthCm  PetalWidthCm      Species\n",
            "0            5.1           3.5            1.4           0.2  Iris-setosa\n",
            "1            4.9           3.0            1.4           0.2  Iris-setosa\n",
            "2            4.7           3.2            1.3           0.2  Iris-setosa\n",
            "3            4.6           3.1            1.5           0.2  Iris-setosa\n",
            "4            5.0           3.6            1.4           0.2  Iris-setosa\n"
          ]
        }
      ]
    },
    {
      "cell_type": "markdown",
      "metadata": {
        "id": "zClnPtZiw2Ej"
      },
      "source": [
        "### Pre-processing"
      ]
    },
    {
      "cell_type": "markdown",
      "metadata": {
        "id": "6_YzMtLwwrip"
      },
      "source": [
        "Encoding Data Species Classification"
      ]
    },
    {
      "cell_type": "code",
      "metadata": {
        "colab": {
          "base_uri": "https://localhost:8080/"
        },
        "id": "DZJ9HXGytVta",
        "outputId": "87e6555a-7bae-48d4-a2d2-170f2a3d1d46"
      },
      "source": [
        "#label encode the target variable\n",
        "encode = LabelEncoder()\n",
        "data.Species = encode.fit_transform(data.Species)\n",
        "print(data.head())"
      ],
      "execution_count": 40,
      "outputs": [
        {
          "output_type": "stream",
          "name": "stdout",
          "text": [
            "   SepalLengthCm  SepalWidthCm  PetalLengthCm  PetalWidthCm  Species\n",
            "0            5.1           3.5            1.4           0.2        0\n",
            "1            4.9           3.0            1.4           0.2        0\n",
            "2            4.7           3.2            1.3           0.2        0\n",
            "3            4.6           3.1            1.5           0.2        0\n",
            "4            5.0           3.6            1.4           0.2        0\n"
          ]
        }
      ]
    },
    {
      "cell_type": "markdown",
      "metadata": {
        "id": "9JOUvkhyw_8B"
      },
      "source": [
        "Trainning and Test Split"
      ]
    },
    {
      "cell_type": "code",
      "metadata": {
        "colab": {
          "base_uri": "https://localhost:8080/"
        },
        "id": "LKGm70JBtZxx",
        "outputId": "ee51fe16-cc90-428e-f125-dfd5901fc305"
      },
      "source": [
        "# train-test-split   \n",
        "train , test = train_test_split(data,test_size=0.2,random_state=0)\n",
        "\n",
        "print('shape of training data : ',train.shape)\n",
        "print('shape of testing data',test.shape)\n",
        "\n",
        "# seperate the target and independent variable\n",
        "train_x = train.drop(columns=['Species'],axis=1)\n",
        "train_y = train['Species']\n",
        "\n",
        "test_x = test.drop(columns=['Species'],axis=1)\n",
        "test_y = test['Species']"
      ],
      "execution_count": 41,
      "outputs": [
        {
          "output_type": "stream",
          "name": "stdout",
          "text": [
            "shape of training data :  (120, 5)\n",
            "shape of testing data (30, 5)\n"
          ]
        }
      ]
    },
    {
      "cell_type": "markdown",
      "metadata": {
        "id": "MPLUkNm8xLPl"
      },
      "source": [
        "Model definition, fitting and testing"
      ]
    },
    {
      "cell_type": "code",
      "metadata": {
        "colab": {
          "base_uri": "https://localhost:8080/"
        },
        "id": "EUeHox-MxJei",
        "outputId": "98519c9d-d9a7-4334-9133-4a4e9a507fcf"
      },
      "source": [
        "# disabling warnings\n",
        "from warnings import simplefilter\n",
        "from sklearn.exceptions import ConvergenceWarning\n",
        "simplefilter(\"ignore\", category=ConvergenceWarning)\n",
        "\n",
        "# create the object of the model\n",
        "model = LogisticRegression()\n",
        "model.fit(train_x,train_y)\n",
        "predicted = model.predict(test_x)\n",
        "\n",
        "# traceback\n",
        "real_classes = encode.inverse_transform(test_y)\n",
        "predicted_classes = encode.inverse_transform(predict)\n",
        "\n",
        "print(f'\\n******\\nAccuracy Score on test data : {accuracy_score(test_y, predicted)}\\n\\n')\n",
        "\n",
        "for _index in range(len(real_classes) - 1):\n",
        "    print(f\"{'OK' if real_classes[_index] == predicted_classes[_index] else '  '} {real_classes[_index]} - {predicted_classes[_index]}\")"
      ],
      "execution_count": 58,
      "outputs": [
        {
          "output_type": "stream",
          "name": "stdout",
          "text": [
            "\n",
            "******\n",
            "Accuracy Score on test data : 1.0\n",
            "\n",
            "\n",
            "OK Iris-virginica - Iris-virginica\n",
            "OK Iris-versicolor - Iris-versicolor\n",
            "OK Iris-setosa - Iris-setosa\n",
            "OK Iris-virginica - Iris-virginica\n",
            "OK Iris-setosa - Iris-setosa\n",
            "OK Iris-virginica - Iris-virginica\n",
            "OK Iris-setosa - Iris-setosa\n",
            "OK Iris-versicolor - Iris-versicolor\n",
            "OK Iris-versicolor - Iris-versicolor\n",
            "OK Iris-versicolor - Iris-versicolor\n",
            "OK Iris-virginica - Iris-virginica\n",
            "OK Iris-versicolor - Iris-versicolor\n",
            "OK Iris-versicolor - Iris-versicolor\n",
            "OK Iris-versicolor - Iris-versicolor\n",
            "OK Iris-versicolor - Iris-versicolor\n",
            "OK Iris-setosa - Iris-setosa\n",
            "OK Iris-versicolor - Iris-versicolor\n",
            "OK Iris-versicolor - Iris-versicolor\n",
            "OK Iris-setosa - Iris-setosa\n",
            "OK Iris-setosa - Iris-setosa\n",
            "OK Iris-virginica - Iris-virginica\n",
            "OK Iris-versicolor - Iris-versicolor\n",
            "OK Iris-setosa - Iris-setosa\n",
            "OK Iris-setosa - Iris-setosa\n",
            "OK Iris-virginica - Iris-virginica\n",
            "OK Iris-setosa - Iris-setosa\n",
            "OK Iris-setosa - Iris-setosa\n",
            "OK Iris-versicolor - Iris-versicolor\n",
            "OK Iris-versicolor - Iris-versicolor\n"
          ]
        }
      ]
    }
  ]
}